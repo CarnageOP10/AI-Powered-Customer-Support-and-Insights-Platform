{
 "cells": [
  {
   "cell_type": "code",
   "execution_count": 1,
   "metadata": {},
   "outputs": [],
   "source": [
    "import os\n",
    "from groq import Groq\n",
    "from langchain_groq import ChatGroq\n",
    "from langchain_core.prompts import ChatPromptTemplate\n",
    "from langchain_core.pydantic_v1 import BaseModel, Field\n",
    "import pymysql\n",
    "from pymysql.cursors import DictCursor"
   ]
  },
  {
   "cell_type": "code",
   "execution_count": 2,
   "metadata": {},
   "outputs": [],
   "source": [
    "client = Groq(api_key=\"1\")\n",
    "groq_api_key = \"2\"\n",
    "langchain_api_key = \"3\"\n",
    "langchain_endpoint = \"4\""
   ]
  },
  {
   "cell_type": "code",
   "execution_count": 3,
   "metadata": {},
   "outputs": [
    {
     "name": "stdout",
     "output_type": "stream",
     "text": [
      "Model retrieved\n"
     ]
    }
   ],
   "source": [
    "llm = ChatGroq(\n",
    "    model=\"llama-3.1-70b-versatile\",\n",
    "    temperature=0,\n",
    "    max_tokens=2048,\n",
    "    timeout=None,\n",
    "    max_retries=2,\n",
    "    groq_api_key=groq_api_key\n",
    ")\n",
    "print(\"Model retrieved\")"
   ]
  },
  {
   "cell_type": "code",
   "execution_count": 4,
   "metadata": {},
   "outputs": [],
   "source": [
    "filename = \"./audioFiles/sample2.m4a\""
   ]
  },
  {
   "cell_type": "code",
   "execution_count": 5,
   "metadata": {},
   "outputs": [
    {
     "name": "stdout",
     "output_type": "stream",
     "text": [
      "Response type: <class 'groq.types.audio.transcription.Transcription'>\n",
      "Response attributes: ['__abstractmethods__', '__annotations__', '__class__', '__class_getitem__', '__class_vars__', '__copy__', '__deepcopy__', '__delattr__', '__dict__', '__dir__', '__doc__', '__eq__', '__fields__', '__fields_set__', '__format__', '__ge__', '__get_pydantic_core_schema__', '__get_pydantic_json_schema__', '__getattr__', '__getattribute__', '__getstate__', '__gt__', '__hash__', '__init__', '__init_subclass__', '__iter__', '__le__', '__lt__', '__module__', '__ne__', '__new__', '__pretty__', '__private_attributes__', '__pydantic_complete__', '__pydantic_custom_init__', '__pydantic_decorators__', '__pydantic_extra__', '__pydantic_fields_set__', '__pydantic_generic_metadata__', '__pydantic_init_subclass__', '__pydantic_parent_namespace__', '__pydantic_post_init__', '__pydantic_private__', '__pydantic_root_model__', '__pydantic_serializer__', '__pydantic_validator__', '__reduce__', '__reduce_ex__', '__repr__', '__repr_args__', '__repr_name__', '__repr_str__', '__rich_repr__', '__setattr__', '__setstate__', '__sizeof__', '__slots__', '__str__', '__subclasshook__', '__weakref__', '_abc_impl', '_calculate_keys', '_check_frozen', '_copy_and_set_values', '_get_value', '_iter', 'construct', 'copy', 'dict', 'from_orm', 'json', 'model_computed_fields', 'model_config', 'model_construct', 'model_copy', 'model_dump', 'model_dump_json', 'model_extra', 'model_fields', 'model_fields_set', 'model_json_schema', 'model_parametrized_name', 'model_post_init', 'model_rebuild', 'model_validate', 'model_validate_json', 'model_validate_strings', 'parse_file', 'parse_obj', 'parse_raw', 'schema', 'schema_json', 'text', 'to_dict', 'to_json', 'update_forward_refs', 'validate']\n",
      " Hello, I am calling from Panji, Goa. Hello, help me, I am underwater. Too much water. Hello, hello, help.\n"
     ]
    }
   ],
   "source": [
    "# Open the file and create a transcription\n",
    "try:\n",
    "    with open(filename, \"rb\") as file:\n",
    "        response = client.audio.transcriptions.create(\n",
    "            file=(filename, file.read()),\n",
    "            model=\"whisper-large-v3\",\n",
    "            response_format=\"verbose_json\"\n",
    "        )\n",
    "    # Print the type of the response object and its attributes\n",
    "    print(f\"Response type: {type(response)}\")\n",
    "    print(\"Response attributes:\", dir(response))\n",
    "    transcription_text = response.text\n",
    "    print(transcription_text)\n",
    "except Exception as e:\n",
    "    print(f\"An error occurred: {e}\")"
   ]
  },
  {
   "cell_type": "code",
   "execution_count": 6,
   "metadata": {},
   "outputs": [],
   "source": [
    "class DisasterClassification(BaseModel):\n",
    "    city_type: str = Field(\n",
    "        description=\"Classify the city in which disaster has occured\"\n",
    "    )\n",
    "    state_type: str = Field(\n",
    "        description=\"Classify the state of India in which disaster has occured\"\n",
    "    )\n",
    "    disaster_type: str = Field(\n",
    "        description=\"Classify the type of disaster. Possible types include 'flood', 'earthquake', 'fire', etc. Return only the disaster type.\"\n",
    "    )\n",
    "    severity: int = Field(\n",
    "        description=\"Classify the severity of the disaster on a scale from 0 to 3. 0 being no impact and 3 being extremely severe.\"\n",
    "    )\n",
    "\n",
    "# Create structured LLM grader\n",
    "structured_llm_grader = llm.with_structured_output(DisasterClassification)\n",
    "\n",
    "# Define system prompt for disaster classification\n",
    "system_prompt = \"\"\"You are an expert in disaster management. Given the description of a disaster, get the city and state where the disaster has occured, classify it into one of the following types: 'flood', 'earthquake', 'fire', etc. \n",
    "    Additionally, assess the severity of the disaster on a scale from 0 to 3, where 0 indicates no impact and 3 indicates extremely severe. \n",
    "    Provide accurate and detailed classifications based on the given description.\"\"\"\n",
    "\n",
    "# Create the prompt template\n",
    "disaster_prompt = ChatPromptTemplate.from_messages(\n",
    "    [\n",
    "        (\"system\", system_prompt),\n",
    "        (\"human\", \"Disaster description: {query}\")\n",
    "    ]\n",
    ")\n",
    "\n",
    "# Combine prompt template with structured output\n",
    "disaster_classifier = disaster_prompt | structured_llm_grader"
   ]
  },
  {
   "cell_type": "code",
   "execution_count": 7,
   "metadata": {},
   "outputs": [
    {
     "name": "stdout",
     "output_type": "stream",
     "text": [
      "Disaster Type: flood\n",
      "Severity: 3\n",
      "City: Panji\n",
      "State: Goa\n"
     ]
    }
   ],
   "source": [
    "query = transcription_text\n",
    "disaster_info = disaster_classifier.invoke({\"query\": query})\n",
    "\n",
    "disaster_type = disaster_info.disaster_type\n",
    "severity = disaster_info.severity\n",
    "city = disaster_info.city_type\n",
    "state = disaster_info.state_type\n",
    "\n",
    "print(f\"Disaster Type: {disaster_type}\")\n",
    "print(f\"Severity: {severity}\")\n",
    "print(f\"City: {city}\")\n",
    "print(f\"State: {state}\")"
   ]
  },
  {
   "cell_type": "code",
   "execution_count": 8,
   "metadata": {},
   "outputs": [],
   "source": [
    "# Initialize the database credentials\n",
    "db_config = {\n",
    "    'host': 'localhost',\n",
    "    'user': 'root',\n",
    "    'database': 'sihdb',\n",
    "    'password': '5'\n",
    "}"
   ]
  },
  {
   "cell_type": "code",
   "execution_count": 9,
   "metadata": {},
   "outputs": [],
   "source": [
    "def get_text_from_audio(filename):\n",
    "    try:\n",
    "        with open(filename, \"rb\") as file:\n",
    "            response = client.audio.transcriptions.create(\n",
    "                file=(filename, file.read()),\n",
    "                model=\"whisper-large-v3\",\n",
    "                response_format=\"verbose_json\"\n",
    "            )\n",
    "        transcription_text = response.text\n",
    "        return transcription_text\n",
    "    except Exception as e:\n",
    "        print(f\"get_text_from_audio(): An error occurred: {e}\")\n",
    "        return None\n",
    "\n",
    "def get_disaster_info(transcription_text):\n",
    "    disaster_info = disaster_classifier.invoke({\"query\": transcription_text})\n",
    "    disaster_type = disaster_info.disaster_type\n",
    "    severity = disaster_info.severity\n",
    "    city = disaster_info.city_type\n",
    "    state = disaster_info.state_type\n",
    "    return disaster_type, severity, city, state\n",
    "\n",
    "def insert_disaster_info(disaster_type, severity, city, state):\n",
    "    try:\n",
    "        connection = pymysql.connect(**db_config)\n",
    "        with connection.cursor() as cursor:\n",
    "            cursor.execute(\"CREATE TABLE IF NOT EXISTS ndrftasks2 (audio_id INT AUTO_INCREMENT PRIMARY KEY, disaster_type VARCHAR(255), severity INT, city VARCHAR(255), state VARCHAR(255))\")\n",
    "            sql = \"INSERT INTO ndrftasks2 (disaster_type, severity, city, state) VALUES (%s, %s, %s, %s)\"\n",
    "            cursor.execute(sql, (disaster_type, severity, city, state))\n",
    "            connection.commit()\n",
    "    except Exception as e:\n",
    "        print(f\"insert_disaster_info(): An error occurred: {e}\")\n",
    "    finally:\n",
    "        connection.close()\n",
    "\n",
    "def process_audio_file(filename):\n",
    "    transcription_text = get_text_from_audio(filename)\n",
    "    disaster_type, severity, city, state = get_disaster_info(transcription_text)\n",
    "    insert_disaster_info(disaster_type, severity, city, state)\n",
    "    "
   ]
  },
  {
   "cell_type": "code",
   "execution_count": 10,
   "metadata": {},
   "outputs": [],
   "source": [
    "def process_audio_folder(foldername=\"./audioFiles\"):\n",
    "    for filename in os.listdir(foldername):\n",
    "        if filename.endswith(\".m4a\") or filename.endswith(\".mp3\") or filename.endswith(\".wav\"):\n",
    "            process_audio_file(foldername + \"/\" + filename)"
   ]
  },
  {
   "cell_type": "code",
   "execution_count": 11,
   "metadata": {},
   "outputs": [],
   "source": [
    "# to test, uncomment the following line\n",
    "process_audio_folder()"
   ]
  },
  {
   "cell_type": "code",
   "execution_count": null,
   "metadata": {},
   "outputs": [],
   "source": []
  }
 ],
 "metadata": {
  "kernelspec": {
   "display_name": "Python 3",
   "language": "python",
   "name": "python3"
  },
  "language_info": {
   "codemirror_mode": {
    "name": "ipython",
    "version": 3
   },
   "file_extension": ".py",
   "mimetype": "text/x-python",
   "name": "python",
   "nbconvert_exporter": "python",
   "pygments_lexer": "ipython3",
   "version": "3.11.6"
  }
 },
 "nbformat": 4,
 "nbformat_minor": 2
}
