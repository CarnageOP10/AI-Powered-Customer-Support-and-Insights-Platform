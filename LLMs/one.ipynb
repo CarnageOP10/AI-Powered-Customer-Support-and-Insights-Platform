{
 "cells": [
  {
   "cell_type": "code",
   "execution_count": 1,
   "metadata": {},
   "outputs": [],
   "source": [
    "from langchain_groq import ChatGroq\n",
    "from langchain_core.prompts import ChatPromptTemplate\n",
    "from langchain_core.pydantic_v1 import BaseModel, Field\n",
    "import pymysql\n",
    "from pymysql.cursors import DictCursor\n"
   ]
  },
  {
   "cell_type": "code",
   "execution_count": 2,
   "metadata": {},
   "outputs": [],
   "source": [
    "groq_api_key = \"1\"\n",
    "langchain_api_key = \"2\"\n",
    "langchain_endpoint = \"3\""
   ]
  },
  {
   "cell_type": "code",
   "execution_count": 3,
   "metadata": {},
   "outputs": [
    {
     "name": "stdout",
     "output_type": "stream",
     "text": [
      "Model retrieved\n"
     ]
    }
   ],
   "source": [
    "llm = ChatGroq(\n",
    "    model=\"llama-3.1-70b-versatile\",\n",
    "    temperature=0,\n",
    "    max_tokens=2048,\n",
    "    timeout=None,\n",
    "    max_retries=2,\n",
    "    groq_api_key=groq_api_key\n",
    ")\n",
    "print(\"Model retrieved\")"
   ]
  },
  {
   "cell_type": "markdown",
   "metadata": {},
   "source": []
  },
  {
   "cell_type": "code",
   "execution_count": 4,
   "metadata": {},
   "outputs": [],
   "source": [
    "class DisasterClassification(BaseModel):\n",
    "    disaster_type: str = Field(\n",
    "        description=\"Classify the type of disaster. Possible types include 'flood', 'earthquake', 'fire', etc. Return only the disaster type.\"\n",
    "    )\n",
    "    severity: int = Field(\n",
    "        description=\"Classify the severity of the disaster on a scale from 0 to 3. 0 being no impact and 3 being extremely severe.\"\n",
    "    )\n",
    "\n",
    "# Create structured LLM grader\n",
    "structured_llm_grader = llm.with_structured_output(DisasterClassification)\n",
    "\n",
    "# Define system prompt for disaster classification\n",
    "system_prompt = \"\"\"You are an expert in disaster management. Given the description of a disaster, classify it into one of the following types: 'flood', 'earthquake', 'fire', etc. \n",
    "    Additionally, assess the severity of the disaster on a scale from 0 to 3, where 0 indicates no impact and 3 indicates extremely severe. \n",
    "    Provide accurate and detailed classifications based on the given description.\"\"\"\n",
    "\n",
    "# Create the prompt template\n",
    "disaster_prompt = ChatPromptTemplate.from_messages(\n",
    "    [\n",
    "        (\"system\", system_prompt),\n",
    "        (\"human\", \"Disaster description: {query}\")\n",
    "    ]\n",
    ")\n",
    "\n",
    "# Combine prompt template with structured output\n",
    "disaster_classifier = disaster_prompt | structured_llm_grader"
   ]
  },
  {
   "cell_type": "code",
   "execution_count": 5,
   "metadata": {},
   "outputs": [
    {
     "name": "stdout",
     "output_type": "stream",
     "text": [
      "Disaster Type: earthquake\n",
      "Severity: 3\n"
     ]
    }
   ],
   "source": [
    "query = \"a big earthquake in 5 km radius destroying everything in its path\"\n",
    "disaster_info = disaster_classifier.invoke({\"query\": query})\n",
    "\n",
    "disaster_type = disaster_info.disaster_type\n",
    "severity = disaster_info.severity\n",
    "\n",
    "print(f\"Disaster Type: {disaster_type}\")\n",
    "print(f\"Severity: {severity}\")"
   ]
  },
  {
   "cell_type": "code",
   "execution_count": 6,
   "metadata": {},
   "outputs": [],
   "source": [
    "db_config = {\n",
    "    'host': 'localhost',\n",
    "    'user': 'root',\n",
    "    'password': '4',\n",
    "    'database': 'sihdb'  # Replace with your actual database name\n",
    "}\n"
   ]
  },
  {
   "cell_type": "code",
   "execution_count": 7,
   "metadata": {},
   "outputs": [],
   "source": [
    "last_processed_id = 3\n",
    "\n",
    "def process_alerts():\n",
    "    global last_processed_id\n",
    "\n",
    "    # Connect to the database\n",
    "    connection = pymysql.connect(**db_config)\n",
    "\n",
    "    try:\n",
    "        with connection.cursor(DictCursor) as cursor:\n",
    "            # Retrieve unprocessed data from Alert table starting from the last processed ID\n",
    "            sql = \"SELECT * FROM Alert WHERE id > %s\"\n",
    "            cursor.execute(sql, (last_processed_id,))\n",
    "            alerts = cursor.fetchall()\n",
    "\n",
    "            for alert in alerts:\n",
    "                description = alert['description']\n",
    "                \n",
    "                # Predict disaster type and urgency\n",
    "                disaster_info = disaster_classifier.invoke({\"query\": description})\n",
    "                disaster_type = disaster_info.disaster_type\n",
    "                severity = disaster_info.severity\n",
    "                \n",
    "                # Prepare data for the new table\n",
    "                ndrf_data = {\n",
    "                    'alert_id': alert['id'],\n",
    "                    'user_name': alert['name'],\n",
    "                    'mobile_number': alert['mobile_number'],\n",
    "                    'state_name': alert['state_name'],\n",
    "                    'city_name': alert['city_name'],\n",
    "                    'pincode': alert['pincode'],\n",
    "                    'urgency': severity,\n",
    "                    'disaster_type': disaster_type\n",
    "                }\n",
    "\n",
    "                # Insert data into the NDRF table\n",
    "                cursor.execute(\"\"\"\n",
    "                    INSERT INTO NDRFTasks (alert_id, user_name, mobile_number, state_name, city_name, pincode, urgency, disaster_type)\n",
    "                    VALUES (%s, %s, %s, %s, %s, %s, %s, %s)\n",
    "                \"\"\", (ndrf_data['alert_id'], ndrf_data['user_name'], ndrf_data['mobile_number'],\n",
    "                      ndrf_data['state_name'], ndrf_data['city_name'], ndrf_data['pincode'],\n",
    "                      ndrf_data['urgency'], ndrf_data['disaster_type']))\n",
    "\n",
    "                # Update the last processed alert ID\n",
    "                last_processed_id = alert['id']\n",
    "\n",
    "        # Commit changes\n",
    "        connection.commit()\n",
    "\n",
    "    finally:\n",
    "        connection.close()"
   ]
  },
  {
   "cell_type": "code",
   "execution_count": 8,
   "metadata": {},
   "outputs": [],
   "source": [
    "if __name__ == \"__main__\":\n",
    "    process_alerts()"
   ]
  },
  {
   "cell_type": "code",
   "execution_count": 1,
   "metadata": {},
   "outputs": [
    {
     "name": "stdout",
     "output_type": "stream",
     "text": [
      "ok\n"
     ]
    }
   ],
   "source": [
    "print(\"ok\")"
   ]
  },
  {
   "cell_type": "code",
   "execution_count": null,
   "metadata": {},
   "outputs": [],
   "source": []
  }
 ],
 "metadata": {
  "kernelspec": {
   "display_name": "Python 3",
   "language": "python",
   "name": "python3"
  },
  "language_info": {
   "codemirror_mode": {
    "name": "ipython",
    "version": 3
   },
   "file_extension": ".py",
   "mimetype": "text/x-python",
   "name": "python",
   "nbconvert_exporter": "python",
   "pygments_lexer": "ipython3",
   "version": "3.11.6"
  }
 },
 "nbformat": 4,
 "nbformat_minor": 2
}
